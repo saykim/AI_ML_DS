{
  "cells": [
    {
      "cell_type": "markdown",
      "metadata": {
        "id": "view-in-github",
        "colab_type": "text"
      },
      "source": [
        "<a href=\"https://colab.research.google.com/github/saykim/AI_ML_DS/blob/main/getting_started_with_keras_colab.ipynb\" target=\"_parent\"><img src=\"https://colab.research.google.com/assets/colab-badge.svg\" alt=\"Open In Colab\"/></a>"
      ]
    },
    {
      "cell_type": "markdown",
      "metadata": {
        "id": "MfpYQqWkyLAO"
      },
      "source": [
        "# Getting started with Keras 3\n",
        "\n",
        "**Author:** [fchollet](https://twitter.com/fchollet)<br>\n",
        "**Date created:** 2023/07/10<br>\n",
        "**Last modified:** 2023/07/10<br>\n",
        "**Description:** First contact with the new multi-backend Keras."
      ]
    },
    {
      "cell_type": "markdown",
      "metadata": {
        "id": "48sWUEneyLAR"
      },
      "source": [
        "## Introduction\n",
        "\n",
        "Keras 3 is a full implementation of the Keras API that\n",
        "works with TensorFlow, JAX, and PyTorch interchangeably.\n",
        "This notebook will walk you through key Keras 3 workflows.\n",
        "\n",
        "First, let's install Keras 3:"
      ]
    },
    {
      "cell_type": "code",
      "execution_count": null,
      "metadata": {
        "id": "kTte0VG0yLAR",
        "outputId": "8d02b5bf-1efd-456f-fe12-235bb1dcaf7c",
        "colab": {
          "base_uri": "https://localhost:8080/"
        }
      },
      "outputs": [
        {
          "output_type": "stream",
          "name": "stdout",
          "text": [
            "\u001b[?25l     \u001b[90m━━━━━━━━━━━━━━━━━━━━━━━━━━━━━━━━━━━━━━━━\u001b[0m \u001b[32m0.0/950.8 kB\u001b[0m \u001b[31m?\u001b[0m eta \u001b[36m-:--:--\u001b[0m\r\u001b[2K     \u001b[91m━━\u001b[0m\u001b[91m╸\u001b[0m\u001b[90m━━━━━━━━━━━━━━━━━━━━━━━━━━━━━━━━━━━━━\u001b[0m \u001b[32m61.4/950.8 kB\u001b[0m \u001b[31m1.7 MB/s\u001b[0m eta \u001b[36m0:00:01\u001b[0m\r\u001b[2K     \u001b[91m━━━━━━━━━━━━━━━━━\u001b[0m\u001b[90m╺\u001b[0m\u001b[90m━━━━━━━━━━━━━━━━━━━━━━\u001b[0m \u001b[32m409.6/950.8 kB\u001b[0m \u001b[31m5.9 MB/s\u001b[0m eta \u001b[36m0:00:01\u001b[0m\r\u001b[2K     \u001b[91m━━━━━━━━━━━━━━━━━━━━━━━━━━━━━━━━━━━━━━━\u001b[0m\u001b[91m╸\u001b[0m \u001b[32m942.1/950.8 kB\u001b[0m \u001b[31m10.5 MB/s\u001b[0m eta \u001b[36m0:00:01\u001b[0m\r\u001b[2K     \u001b[90m━━━━━━━━━━━━━━━━━━━━━━━━━━━━━━━━━━━━━━━━\u001b[0m \u001b[32m950.8/950.8 kB\u001b[0m \u001b[31m8.8 MB/s\u001b[0m eta \u001b[36m0:00:00\u001b[0m\n",
            "\u001b[?25h"
          ]
        }
      ],
      "source": [
        "!pip install -q keras-core"
      ]
    },
    {
      "cell_type": "markdown",
      "metadata": {
        "id": "Sw4SZcp5yLAS"
      },
      "source": [
        "## Setup\n",
        "\n",
        "We're going to be using the JAX backend here -- but you can\n",
        "edit the string below to `\"tensorflow\"` or `\"torch\"` and hit\n",
        "\"Restart runtime\", and the whole notebook will run just the same!\n",
        "This entire guide is backend-agnostic."
      ]
    },
    {
      "cell_type": "code",
      "execution_count": null,
      "metadata": {
        "id": "c1z4Kq0EyLAT"
      },
      "outputs": [],
      "source": [
        "import numpy as np\n",
        "import os\n",
        "\n",
        "os.environ[\"KERAS_BACKEND\"] = \"jax\"\n",
        "\n",
        "# Note that keras should only be imported after the backend\n",
        "# has been configured. The backend cannot be changed once the\n",
        "# package is imported.\n",
        "import keras"
      ]
    },
    {
      "cell_type": "markdown",
      "metadata": {
        "id": "W4a8adaqyLAT"
      },
      "source": [
        "## A first example: A MNIST convnet\n",
        "\n",
        "Let's start with the Hello World of ML: training a convnet\n",
        "to classify MNIST digits.\n",
        "\n",
        "Here's the data:"
      ]
    },
    {
      "cell_type": "code",
      "execution_count": null,
      "metadata": {
        "id": "k5_ZsJ5UyLAT"
      },
      "outputs": [],
      "source": [
        "# Load the data and split it between train and test sets\n",
        "(x_train, y_train), (x_test, y_test) = keras.datasets.mnist.load_data()\n",
        "\n",
        "# Scale images to the [0, 1] range\n",
        "x_train = x_train.astype(\"float32\") / 255\n",
        "x_test = x_test.astype(\"float32\") / 255\n",
        "# Make sure images have shape (28, 28, 1)\n",
        "x_train = np.expand_dims(x_train, -1)\n",
        "x_test = np.expand_dims(x_test, -1)\n",
        "print(\"x_train shape:\", x_train.shape)\n",
        "print(\"y_train shape:\", y_train.shape)\n",
        "print(x_train.shape[0], \"train samples\")\n",
        "print(x_test.shape[0], \"test samples\")"
      ]
    },
    {
      "cell_type": "markdown",
      "metadata": {
        "id": "LVWb0KFVyLAU"
      },
      "source": [
        "Here's our model.\n",
        "\n",
        "Different model-building options that Keras offers include:\n",
        "\n",
        "- [The Sequential API](https://keras.io/guides/sequential_model/) (what we use below)\n",
        "- [The Functional API](https://keras.io/guides/functional_api/) (most typical)\n",
        "- [Writing your own models yourself via subclassing](https://keras.io/guides/making_new_layers_and_models_via_subclassing/) (for advanced use cases)"
      ]
    },
    {
      "cell_type": "code",
      "execution_count": null,
      "metadata": {
        "id": "c1drvi1jyLAU"
      },
      "outputs": [],
      "source": [
        "# Model parameters\n",
        "num_classes = 10\n",
        "input_shape = (28, 28, 1)\n",
        "\n",
        "model = keras.Sequential(\n",
        "    [\n",
        "        keras.layers.Input(shape=input_shape),\n",
        "        keras.layers.Conv2D(64, kernel_size=(3, 3), activation=\"relu\"),\n",
        "        keras.layers.Conv2D(64, kernel_size=(3, 3), activation=\"relu\"),\n",
        "        keras.layers.MaxPooling2D(pool_size=(2, 2)),\n",
        "        keras.layers.Conv2D(128, kernel_size=(3, 3), activation=\"relu\"),\n",
        "        keras.layers.Conv2D(128, kernel_size=(3, 3), activation=\"relu\"),\n",
        "        keras.layers.GlobalAveragePooling2D(),\n",
        "        keras.layers.Dropout(0.5),\n",
        "        keras.layers.Dense(num_classes, activation=\"softmax\"),\n",
        "    ]\n",
        ")"
      ]
    },
    {
      "cell_type": "markdown",
      "metadata": {
        "id": "Mt3Z-Ee4yLAU"
      },
      "source": [
        "Here's our model summary:"
      ]
    },
    {
      "cell_type": "code",
      "execution_count": null,
      "metadata": {
        "id": "_z0oMIEFyLAV"
      },
      "outputs": [],
      "source": [
        "model.summary()"
      ]
    },
    {
      "cell_type": "markdown",
      "metadata": {
        "id": "XwHpmpETyLAV"
      },
      "source": [
        "We use the `compile()` method to specify the optimizer, loss function,\n",
        "and the metrics to monitor. Note that with the JAX and TensorFlow backends,\n",
        "XLA compilation is turned on by default."
      ]
    },
    {
      "cell_type": "code",
      "execution_count": null,
      "metadata": {
        "id": "9bwp_Jy5yLAV"
      },
      "outputs": [],
      "source": [
        "model.compile(\n",
        "    loss=keras.losses.SparseCategoricalCrossentropy(),\n",
        "    optimizer=keras.optimizers.Adam(learning_rate=1e-3),\n",
        "    metrics=[\n",
        "        keras.metrics.SparseCategoricalAccuracy(name=\"acc\"),\n",
        "    ],\n",
        ")"
      ]
    },
    {
      "cell_type": "markdown",
      "metadata": {
        "id": "krSXnbFsyLAV"
      },
      "source": [
        "Let's train and evaluate the model. We'll set aside a validation split of 15%\n",
        "of the data during training to monitor generalization on unseen data."
      ]
    },
    {
      "cell_type": "code",
      "execution_count": null,
      "metadata": {
        "id": "dxxB2VhQyLAV"
      },
      "outputs": [],
      "source": [
        "batch_size = 128\n",
        "epochs = 20\n",
        "\n",
        "callbacks = [\n",
        "    keras.callbacks.ModelCheckpoint(filepath=\"model_at_epoch_{epoch}.keras\"),\n",
        "    keras.callbacks.EarlyStopping(monitor=\"val_loss\", patience=2),\n",
        "]\n",
        "\n",
        "model.fit(\n",
        "    x_train,\n",
        "    y_train,\n",
        "    batch_size=batch_size,\n",
        "    epochs=epochs,\n",
        "    validation_split=0.15,\n",
        "    callbacks=callbacks,\n",
        ")\n",
        "score = model.evaluate(x_test, y_test, verbose=0)"
      ]
    },
    {
      "cell_type": "markdown",
      "metadata": {
        "id": "76ssjkbIyLAV"
      },
      "source": [
        "During training, we were saving a model at the end of each epoch. You\n",
        "can also save the model in its latest state like this:"
      ]
    },
    {
      "cell_type": "code",
      "execution_count": null,
      "metadata": {
        "id": "rJ3hYrQJyLAV"
      },
      "outputs": [],
      "source": [
        "model.save(\"final_model.keras\")"
      ]
    },
    {
      "cell_type": "markdown",
      "metadata": {
        "id": "cGjmLLLGyLAW"
      },
      "source": [
        "And reload it like this:"
      ]
    },
    {
      "cell_type": "code",
      "execution_count": null,
      "metadata": {
        "id": "nM3RMPHFyLAW"
      },
      "outputs": [],
      "source": [
        "model = keras.saving.load_model(\"final_model.keras\")"
      ]
    },
    {
      "cell_type": "markdown",
      "metadata": {
        "id": "-18kBYrhyLAW"
      },
      "source": [
        "Next, you can query predictions of class probabilities with `predict()`:"
      ]
    },
    {
      "cell_type": "code",
      "execution_count": null,
      "metadata": {
        "id": "MNZwp7u9yLAW"
      },
      "outputs": [],
      "source": [
        "predictions = model.predict(x_test)"
      ]
    },
    {
      "cell_type": "markdown",
      "metadata": {
        "id": "TswNu0R-yLAW"
      },
      "source": [
        "That's it for the basics!"
      ]
    },
    {
      "cell_type": "markdown",
      "metadata": {
        "id": "nOi_nJj6yLAY"
      },
      "source": [
        "## Writing cross-framework custom components\n",
        "\n",
        "Keras 3 enables you to write custom Layers, Models, Metrics, Losses, and Optimizers\n",
        "that work across TensorFlow, JAX, and PyTorch with the same codebase. Let's take a look\n",
        "at custom layers first.\n",
        "\n",
        "If you're already familiar with writing custom layers in `tf.keras` -- well, nothing\n",
        "has changed. Except one thing: instead of using functions from the `tf` namespace, you should use functions\n",
        "from `keras.ops.*`.\n",
        "\n",
        "The `keras.ops` namespace contains:\n",
        "\n",
        "- An implementation of the NumPy API, e.g. `keras.ops.stack` or `keras.ops.matmul`.\n",
        "- A set of neural network specific ops that are absent from NumPy, such as `keras.ops.conv`\n",
        "or `keras.ops.binary_crossentropy`.\n",
        "\n",
        "Let's make a custom `Dense` layer that works with all backends:"
      ]
    },
    {
      "cell_type": "code",
      "execution_count": null,
      "metadata": {
        "id": "N6hIVtzUyLAY"
      },
      "outputs": [],
      "source": [
        "\n",
        "class MyDense(keras.layers.Layer):\n",
        "    def __init__(self, units, activation=None, name=None):\n",
        "        super().__init__(name=name)\n",
        "        self.units = units\n",
        "        self.activation = keras.activations.get(activation)\n",
        "\n",
        "    def build(self, input_shape):\n",
        "        input_dim = input_shape[-1]\n",
        "        self.w = self.add_weight(\n",
        "            shape=(input_dim, self.units),\n",
        "            initializer=keras.initializers.GlorotNormal(),\n",
        "            name=\"kernel\",\n",
        "            trainable=True,\n",
        "        )\n",
        "\n",
        "        self.b = self.add_weight(\n",
        "            shape=(self.units,),\n",
        "            initializer=keras.initializers.Zeros(),\n",
        "            name=\"bias\",\n",
        "            trainable=True,\n",
        "        )\n",
        "\n",
        "    def call(self, inputs):\n",
        "        # Use Keras ops to create backend-agnostic layers/metrics/etc.\n",
        "        x = keras.ops.matmul(inputs, self.w) + self.b\n",
        "        return self.activation(x)\n"
      ]
    },
    {
      "cell_type": "markdown",
      "metadata": {
        "id": "Fyl6J0ysyLAY"
      },
      "source": [
        "Next, let's make a custom `Dropout` layer that relies on the `keras.random`\n",
        "namespace:"
      ]
    },
    {
      "cell_type": "code",
      "execution_count": null,
      "metadata": {
        "id": "rvr0T2efyLAZ"
      },
      "outputs": [],
      "source": [
        "\n",
        "class MyDropout(keras.layers.Layer):\n",
        "    def __init__(self, rate, name=None):\n",
        "        super().__init__(name=name)\n",
        "        self.rate = rate\n",
        "        # Use seed_generator for managing RNG state.\n",
        "        # It is a state element and its seed variable is\n",
        "        # tracked as part of `layer.variables`.\n",
        "        self.seed_generator = keras.random.SeedGenerator(1337)\n",
        "\n",
        "    def call(self, inputs):\n",
        "        # Use `keras.random` for random ops.\n",
        "        return keras.random.dropout(inputs, self.rate, seed=self.seed_generator)\n"
      ]
    },
    {
      "cell_type": "markdown",
      "metadata": {
        "id": "sjjx_Ig3yLAZ"
      },
      "source": [
        "Next, let's write a custom subclassed model that uses our two custom layers:"
      ]
    },
    {
      "cell_type": "code",
      "execution_count": null,
      "metadata": {
        "id": "hkEs7SZ6yLAZ"
      },
      "outputs": [],
      "source": [
        "\n",
        "class MyModel(keras.Model):\n",
        "    def __init__(self, num_classes):\n",
        "        super().__init__()\n",
        "        self.conv_base = keras.Sequential(\n",
        "            [\n",
        "                keras.layers.Conv2D(64, kernel_size=(3, 3), activation=\"relu\"),\n",
        "                keras.layers.Conv2D(64, kernel_size=(3, 3), activation=\"relu\"),\n",
        "                keras.layers.MaxPooling2D(pool_size=(2, 2)),\n",
        "                keras.layers.Conv2D(128, kernel_size=(3, 3), activation=\"relu\"),\n",
        "                keras.layers.Conv2D(128, kernel_size=(3, 3), activation=\"relu\"),\n",
        "                keras.layers.GlobalAveragePooling2D(),\n",
        "            ]\n",
        "        )\n",
        "        self.dp = MyDropout(0.5)\n",
        "        self.dense = MyDense(num_classes, activation=\"softmax\")\n",
        "\n",
        "    def call(self, x):\n",
        "        x = self.conv_base(x)\n",
        "        x = self.dp(x)\n",
        "        return self.dense(x)\n"
      ]
    },
    {
      "cell_type": "markdown",
      "metadata": {
        "id": "3u0J4ZAUyLAZ"
      },
      "source": [
        "Let's compile it and fit it:"
      ]
    },
    {
      "cell_type": "code",
      "execution_count": null,
      "metadata": {
        "id": "MAtYzJXZyLAZ"
      },
      "outputs": [],
      "source": [
        "model = MyModel(num_classes=10)\n",
        "model.compile(\n",
        "    loss=keras.losses.SparseCategoricalCrossentropy(),\n",
        "    optimizer=keras.optimizers.Adam(learning_rate=1e-3),\n",
        "    metrics=[\n",
        "        keras.metrics.SparseCategoricalAccuracy(name=\"acc\"),\n",
        "    ],\n",
        ")\n",
        "\n",
        "model.fit(\n",
        "    x_train,\n",
        "    y_train,\n",
        "    batch_size=batch_size,\n",
        "    epochs=1,  # For speed\n",
        "    validation_split=0.15,\n",
        ")"
      ]
    },
    {
      "cell_type": "markdown",
      "metadata": {
        "id": "Tpu4pZjOyLAZ"
      },
      "source": [
        "## Training models on arbitrary data sources\n",
        "\n",
        "All Keras models can be trained and evaluated on a wide variety of data sources,\n",
        "independently of the backend you're using. This includes:\n",
        "\n",
        "- NumPy arrays\n",
        "- Pandas dataframes\n",
        "- TensorFlow`tf.data.Dataset` objects\n",
        "- PyTorch `DataLoader` objects\n",
        "- Keras `PyDataset` objects\n",
        "\n",
        "They all work whether you're using TensorFlow, JAX, or PyTorch as your Keras backend.\n",
        "\n",
        "Let's try it out with PyTorch `DataLoaders`:"
      ]
    },
    {
      "cell_type": "code",
      "execution_count": null,
      "metadata": {
        "id": "lmzESwd5yLAZ"
      },
      "outputs": [],
      "source": [
        "import torch\n",
        "\n",
        "# Create a TensorDataset\n",
        "train_torch_dataset = torch.utils.data.TensorDataset(\n",
        "    torch.from_numpy(x_train), torch.from_numpy(y_train)\n",
        ")\n",
        "val_torch_dataset = torch.utils.data.TensorDataset(\n",
        "    torch.from_numpy(x_test), torch.from_numpy(y_test)\n",
        ")\n",
        "\n",
        "# Create a DataLoader\n",
        "train_dataloader = torch.utils.data.DataLoader(\n",
        "    train_torch_dataset, batch_size=batch_size, shuffle=True\n",
        ")\n",
        "val_dataloader = torch.utils.data.DataLoader(\n",
        "    val_torch_dataset, batch_size=batch_size, shuffle=False\n",
        ")\n",
        "\n",
        "model = MyModel(num_classes=10)\n",
        "model.compile(\n",
        "    loss=keras.losses.SparseCategoricalCrossentropy(),\n",
        "    optimizer=keras.optimizers.Adam(learning_rate=1e-3),\n",
        "    metrics=[\n",
        "        keras.metrics.SparseCategoricalAccuracy(name=\"acc\"),\n",
        "    ],\n",
        ")\n",
        "model.fit(train_dataloader, epochs=1, validation_data=val_dataloader)\n"
      ]
    },
    {
      "cell_type": "markdown",
      "metadata": {
        "id": "N-9zrx1CyLAZ"
      },
      "source": [
        "Now let's try this out with `tf.data`:"
      ]
    },
    {
      "cell_type": "code",
      "execution_count": null,
      "metadata": {
        "id": "-p-W7MRmyLAa"
      },
      "outputs": [],
      "source": [
        "import tensorflow as tf\n",
        "\n",
        "train_dataset = (\n",
        "    tf.data.Dataset.from_tensor_slices((x_train, y_train))\n",
        "    .batch(batch_size)\n",
        "    .prefetch(tf.data.AUTOTUNE)\n",
        ")\n",
        "test_dataset = (\n",
        "    tf.data.Dataset.from_tensor_slices((x_test, y_test))\n",
        "    .batch(batch_size)\n",
        "    .prefetch(tf.data.AUTOTUNE)\n",
        ")\n",
        "\n",
        "model = MyModel(num_classes=10)\n",
        "model.compile(\n",
        "    loss=keras.losses.SparseCategoricalCrossentropy(),\n",
        "    optimizer=keras.optimizers.Adam(learning_rate=1e-3),\n",
        "    metrics=[\n",
        "        keras.metrics.SparseCategoricalAccuracy(name=\"acc\"),\n",
        "    ],\n",
        ")\n",
        "model.fit(train_dataset, epochs=1, validation_data=test_dataset)"
      ]
    },
    {
      "cell_type": "markdown",
      "metadata": {
        "id": "pqvcE-cCyLAa"
      },
      "source": [
        "## Further reading\n",
        "\n",
        "This concludes our short overview of the new multi-backend capabilities\n",
        "of Keras 3. Next, you can learn about:\n",
        "\n",
        "### How to customize what happens in `fit()`\n",
        "\n",
        "Want to implement a non-standard training algorithm yourself\n",
        "(e.g. a GAN training routine) but still want to benefit from\n",
        "the power and usability of `fit()`? It's really easy to customize\n",
        "`fit()` to support arbitrary use cases.\n",
        "\n",
        "- [Customizing what happens in `fit()` with TensorFlow](http://keras.io/guides/custom_train_step_in_tensorflow/)\n",
        "- [Customizing what happens in `fit()` with JAX](http://keras.io/guides/custom_train_step_in_jax/)\n",
        "- [Customizing what happens in `fit()` with PyTorch](http://keras.io/guides/custom_train_step_in_pytorch/)\n",
        "\n",
        "## How to write custom training loops\n",
        "\n",
        "- [Writing a training loop from scratch in TensorFlow](http://keras.io/guides/writing_a_custom_training_loop_in_tensorflow/)\n",
        "- [Writing a training loop from scratch in JAX](http://keras.io/guides/writing_a_custom_training_loop_in_jax/)\n",
        "- [Writing a training loop from scratch in PyTorch](http://keras.io/guides/writing_a_custom_training_loop_in_torch/)\n",
        "\n",
        "\n",
        "## How to distribute training\n",
        "\n",
        "- [Guide to distributed training with TensorFlow](http://keras.io/guides/distributed_training_with_tensorflow/)\n",
        "- [JAX distributed training example](https://github.com/keras-team/keras-core/blob/main/examples/demo_jax_distributed.py)\n",
        "- [PyTorch distributed training example](https://github.com/keras-team/keras-core/blob/main/examples/demo_torch_multi_gpu.py)\n",
        "\n",
        "Enjoy the library! 🚀"
      ]
    }
  ],
  "metadata": {
    "colab": {
      "provenance": [],
      "toc_visible": true,
      "gpuType": "T4",
      "include_colab_link": true
    },
    "kernelspec": {
      "display_name": "Python 3",
      "name": "python3"
    },
    "language_info": {
      "codemirror_mode": {
        "name": "ipython",
        "version": 3
      },
      "file_extension": ".py",
      "mimetype": "text/x-python",
      "name": "python",
      "nbconvert_exporter": "python",
      "pygments_lexer": "ipython3",
      "version": "3.7.0"
    },
    "accelerator": "GPU"
  },
  "nbformat": 4,
  "nbformat_minor": 0
}