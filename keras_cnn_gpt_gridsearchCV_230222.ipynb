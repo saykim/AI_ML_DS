{
  "nbformat": 4,
  "nbformat_minor": 0,
  "metadata": {
    "colab": {
      "provenance": [],
      "toc_visible": true,
      "authorship_tag": "ABX9TyOFRWGvrIyaknktCj3j/jKC",
      "include_colab_link": true
    },
    "kernelspec": {
      "name": "python3",
      "display_name": "Python 3"
    },
    "language_info": {
      "name": "python"
    }
  },
  "cells": [
    {
      "cell_type": "markdown",
      "metadata": {
        "id": "view-in-github",
        "colab_type": "text"
      },
      "source": [
        "<a href=\"https://colab.research.google.com/github/saykim/ds/blob/main/keras_cnn_gpt_gridsearchCV_230222.ipynb\" target=\"_parent\"><img src=\"https://colab.research.google.com/assets/colab-badge.svg\" alt=\"Open In Colab\"/></a>"
      ]
    },
    {
      "cell_type": "markdown",
      "source": [
        "# 1) 기본 모델"
      ],
      "metadata": {
        "id": "q8wgzUtgaj2i"
      }
    },
    {
      "cell_type": "code",
      "execution_count": null,
      "metadata": {
        "id": "7U-FajVUYli-"
      },
      "outputs": [],
      "source": [
        "# 필요한 라이브러리를 import 합니다\n",
        "import os\n",
        "import pandas as pd\n",
        "from tensorflow.keras.preprocessing.image import ImageDataGenerator\n",
        "from tensorflow.keras.models import Sequential\n",
        "from tensorflow.keras.layers import Conv2D, MaxPooling2D, Flatten, Dense\n",
        "\n",
        "# 데이터 경로 설정\n",
        "data_path = '/path/to/data'\n",
        "train_path = os.path.join(data_path, 'train')  # train 데이터 경로\n",
        "test_path = os.path.join(data_path, 'test')    # test 데이터 경로\n",
        "\n",
        "# train 폴더의 파일 이름과 라벨 추출\n",
        "filenames = os.listdir(train_path)\n",
        "labels = [1 if 'abnormal' in filename else 0 for filename in filenames]\n",
        "\n",
        "# 파일 이름과 라벨 정보를 포함한 데이터프레임 생성\n",
        "df = pd.DataFrame({'filename': filenames, 'label': labels})\n",
        "df.to_csv(os.path.join(data_path, 'labels.csv'), index=False)\n",
        "\n",
        "# 데이터 로드 및 전처리\n",
        "train_datagen = ImageDataGenerator(rescale=1./255, shear_range=0.2, zoom_range=0.2, horizontal_flip=True)\n",
        "test_datagen = ImageDataGenerator(rescale=1./255)\n",
        "\n",
        "# flow_from_directory 함수를 사용하여 train_data와 test_data 생성\n",
        "train_data = train_datagen.flow_from_directory(train_path, target_size=(224, 224), batch_size=32, class_mode='categorical', classes=['normal', 'abnormal'])\n",
        "test_data = test_datagen.flow_from_directory(test_path, target_size=(224, 224), batch_size=32, class_mode='categorical', classes=['normal', 'abnormal'])\n",
        "\n",
        "# 모델 구성\n",
        "model = Sequential()\n",
        "model.add(Conv2D(32, (3, 3), input_shape=(224, 224, 3), activation='relu'))\n",
        "model.add(MaxPooling2D(pool_size=(2, 2)))\n",
        "model.add(Conv2D(64, (3, 3), activation='relu'))\n",
        "model.add(MaxPooling2D(pool_size=(2, 2)))\n",
        "model.add(Conv2D(128, (3, 3), activation='relu'))\n",
        "model.add(MaxPooling2D(pool_size=(2, 2)))\n",
        "model.add(Flatten())\n",
        "model.add(Dense(128, activation='relu'))\n",
        "model.add(Dense(2, activation='softmax'))\n",
        "\n",
        "# 모델 컴파일\n",
        "model.compile(loss='categorical_crossentropy', optimizer='adam', metrics=['accuracy'])\n",
        "\n",
        "# 모델 학습\n",
        "model.fit(train_data, epochs=10, validation_data=test_data)\n",
        "\n",
        "# 테스트 데이터 예측\n",
        "pred = model.predict(test_data)\n",
        "labels = pred.argmax(axis=1)\n",
        "\n",
        "# 파일 이름에 따른 라벨 출력\n",
        "for i, label in enumerate(labels):\n",
        "    print(test_data.filenames[i], label)\n"
      ]
    },
    {
      "cell_type": "markdown",
      "source": [
        "# 2) 이미지 변형 추가"
      ],
      "metadata": {
        "id": "zmF_oXGQap1S"
      }
    },
    {
      "cell_type": "markdown",
      "source": [
        "## 데이터 경로 설정"
      ],
      "metadata": {
        "id": "5x1wqM46bAFX"
      }
    },
    {
      "cell_type": "code",
      "source": [
        "import os\n",
        "\n",
        "data_path = '/path/to/data'\n",
        "train_path = os.path.join(data_path, 'train')\n",
        "test_path = os.path.join(data_path, 'test')\n"
      ],
      "metadata": {
        "id": "qkp7rHiCasAm"
      },
      "execution_count": null,
      "outputs": []
    },
    {
      "cell_type": "markdown",
      "source": [
        "## 데이터 로드 및 전처리"
      ],
      "metadata": {
        "id": "WdKrIBYobDpz"
      }
    },
    {
      "cell_type": "code",
      "source": [
        "from tensorflow.keras.preprocessing.image import ImageDataGenerator\n",
        "\n",
        "train_datagen = ImageDataGenerator(\n",
        "    rescale=1./255,\n",
        "    rotation_range=10,\n",
        "    width_shift_range=0.1,\n",
        "    height_shift_range=0.1,\n",
        "    zoom_range=0.1,\n",
        "    horizontal_flip=True,\n",
        "    vertical_flip=False,\n",
        "    fill_mode='nearest'\n",
        ")\n",
        "\n",
        "test_datagen = ImageDataGenerator(\n",
        "    rescale=1./255\n",
        ")\n",
        "\n",
        "train_data = train_datagen.flow_from_directory(\n",
        "    train_path,\n",
        "    target_size=(224, 224),\n",
        "    batch_size=32,\n",
        "    class_mode='binary'\n",
        ")\n",
        "\n",
        "test_data = test_datagen.flow_from_directory(\n",
        "    test_path,\n",
        "    target_size=(224, 224),\n",
        "    batch_size=32,\n",
        "    class_mode='binary'\n",
        ")\n"
      ],
      "metadata": {
        "id": "qM74-LoZatlf"
      },
      "execution_count": null,
      "outputs": []
    },
    {
      "cell_type": "markdown",
      "source": [
        "1. ImageDataGenerator 클래스를 사용하여 데이터를 로드하고 전처리합니다. train_datagen 객체에는 학습 데이터를 위한 이미지 전처리 방법을 지정합니다. 여기에서는 이미지 회전, 가로/세로 이동, 축소/확대, 수평/수직 뒤집기 등의 변형을 지정합니다.\n",
        "\n",
        "2. test_datagen 객체는 테스트 데이터에 대한 전처리를 수행합니다. 여기에서는 이미지의 크기만 조정합니다.\n",
        "\n",
        "3. flow_from_directory 메서드를 사용하여 디렉토리에서 이미지를 로드합니다. target_size는 이미지를 리사이징할 크기를 지정합니다. batch_size는 배치 크기를 지정합니다. class_mode는 이진 분류일 경우 'binary', 다중 분류일 경우 'categorical'로 설정합니다."
      ],
      "metadata": {
        "id": "DJLqTAwlaxGL"
      }
    },
    {
      "cell_type": "markdown",
      "source": [
        "## 모델 구성"
      ],
      "metadata": {
        "id": "7ZI7A4nFbHPu"
      }
    },
    {
      "cell_type": "markdown",
      "source": [
        "* 모델을 구성하는 코드는 다음과 같습니다. \n",
        "> input_layer를 Input 클래스의 인스턴스로 지정하고, 이후에 Conv2D, MaxPooling2D, Flatten, Dense, Dropout 등의 레이어를 쌓아서 모델을 구성합니다."
      ],
      "metadata": {
        "id": "onpO_H1IbOLK"
      }
    },
    {
      "cell_type": "code",
      "source": [
        "from tensorflow.keras.models import Model\n",
        "from tensorflow.keras.layers import Input, Conv2D, MaxPooling2D, Flatten, Dense, Dropout\n",
        "\n",
        "input_layer = Input(shape=(224, 224, 3))\n",
        "\n",
        "x = Conv2D(32, (3, 3), activation='relu')(input_layer)\n",
        "x = MaxPooling2D((2, 2))(x)\n",
        "\n",
        "x = Conv2D(64, (3, 3), activation='relu')(x)\n",
        "x = MaxPooling2D((2, 2))(x)\n",
        "\n",
        "x = Conv2D(128, (3, 3), activation='relu')(x)\n",
        "x = MaxPooling2D((2, 2))(x)\n",
        "\n",
        "x = Flatten()(x)\n",
        "x = Dense(64, activation='relu')(x)\n",
        "x = Dropout(0.5)(x)\n",
        "\n",
        "output_layer = Dense(1, activation='sigmoid')(x)\n",
        "\n",
        "model = Model(input_layer, output_layer)\n"
      ],
      "metadata": {
        "id": "jqB0z15Ia1Yu"
      },
      "execution_count": null,
      "outputs": []
    },
    {
      "cell_type": "markdown",
      "source": [
        "## 모델 컴파일"
      ],
      "metadata": {
        "id": "rCLYJW98bYVr"
      }
    },
    {
      "cell_type": "code",
      "source": [
        "model.compile(loss='binary_crossentropy', optimizer='adam', metrics=['accuracy'])\n"
      ],
      "metadata": {
        "id": "70vYdINebZeV"
      },
      "execution_count": null,
      "outputs": []
    },
    {
      "cell_type": "markdown",
      "source": [
        "## 모델 학습"
      ],
      "metadata": {
        "id": "b9jFDGbjbnaG"
      }
    },
    {
      "cell_type": "code",
      "source": [
        "from tensorflow.keras.callbacks import EarlyStopping\n",
        "\n",
        "# EarlyStopping 콜백 함수\n",
        "earlystop_callback = EarlyStopping(monitor='val_loss', patience=10)\n",
        "\n",
        "history = model.fit(train_data, epochs=10, validation_data=test_data, callbacks=[earlystop_callback])\n"
      ],
      "metadata": {
        "id": "zT_e9gkibuPe"
      },
      "execution_count": null,
      "outputs": []
    },
    {
      "cell_type": "markdown",
      "source": [
        "## 모델 평가"
      ],
      "metadata": {
        "id": "AE6udtr6bbFM"
      }
    },
    {
      "cell_type": "code",
      "source": [
        "score = model.evaluate(test_data)\n",
        "print('Test accuracy:', score[1])\n"
      ],
      "metadata": {
        "id": "e8cfH5qPbbHD"
      },
      "execution_count": null,
      "outputs": []
    },
    {
      "cell_type": "markdown",
      "source": [
        "### 학습 예측결과 다르게 나온 이미지 만 확인"
      ],
      "metadata": {
        "id": "Xz-X5fmsdUv7"
      }
    },
    {
      "cell_type": "code",
      "source": [
        "predicted_labels = model.predict(test_data) # 수정 필요\n",
        "true_labels = test_data.classes\n",
        "\n",
        "# 예측 결과와 실제 라벨 간 비교\n",
        "misclassified_indices = [i for i in range(len(predicted_labels)) if predicted_labels[i] != true_labels[i]]\n",
        "\n",
        "# 예측이 틀린 이미지만을 선택하여 추출\n",
        "misclassified_images = []\n",
        "for i in misclassified_indices:\n",
        "    x, y = test_data[i]\n",
        "    misclassified_images.append(x)\n",
        "\n",
        "# 예측이 틀린 이미지 출력\n",
        "import matplotlib.pyplot as plt\n",
        "\n",
        "for img in misclassified_images:\n",
        "    plt.imshow(img)\n",
        "    plt.show()\n"
      ],
      "metadata": {
        "id": "cG4w_mFcdYgS"
      },
      "execution_count": null,
      "outputs": []
    },
    {
      "cell_type": "markdown",
      "source": [
        "## 모델 예측"
      ],
      "metadata": {
        "id": "AMMOaEthbbIl"
      }
    },
    {
      "cell_type": "code",
      "source": [
        "pred = model.predict(test_data)\n"
      ],
      "metadata": {
        "id": "Kgi-4ucobbKl"
      },
      "execution_count": null,
      "outputs": []
    },
    {
      "cell_type": "markdown",
      "source": [
        "## 모델 저장"
      ],
      "metadata": {
        "id": "0ZhUioV0b32M"
      }
    },
    {
      "cell_type": "code",
      "source": [
        "model.save('my_model.h5')\n"
      ],
      "metadata": {
        "id": "e-6pdRxRb34b"
      },
      "execution_count": null,
      "outputs": []
    },
    {
      "cell_type": "markdown",
      "source": [
        "## 모델 로드"
      ],
      "metadata": {
        "id": "XAEfukeRb36u"
      }
    },
    {
      "cell_type": "code",
      "source": [
        "from tensorflow.keras.models import load_model\n",
        "\n",
        "model = load_model('my_model.h5')\n"
      ],
      "metadata": {
        "id": "bINZ_Jwyb38Y"
      },
      "execution_count": null,
      "outputs": []
    },
    {
      "cell_type": "markdown",
      "source": [],
      "metadata": {
        "id": "lH1IymjocEYE"
      }
    },
    {
      "cell_type": "markdown",
      "source": [
        "## 모델 예측"
      ],
      "metadata": {
        "id": "KtvpApUqcEaV"
      }
    },
    {
      "cell_type": "code",
      "source": [
        "pred = model.predict(test_data)\n"
      ],
      "metadata": {
        "id": "zvmvAcULcEcb"
      },
      "execution_count": null,
      "outputs": []
    },
    {
      "cell_type": "markdown",
      "source": [
        "## 모델 평가"
      ],
      "metadata": {
        "id": "dV7SsBBccEep"
      }
    },
    {
      "cell_type": "code",
      "source": [
        "score = model.evaluate(test_data)\n",
        "print('Test accuracy:', score[1])\n"
      ],
      "metadata": {
        "id": "7fnHKrhvcEgh"
      },
      "execution_count": null,
      "outputs": []
    },
    {
      "cell_type": "markdown",
      "source": [
        "## 모델 시각화"
      ],
      "metadata": {
        "id": "UnJwXVmYb3-c"
      }
    },
    {
      "cell_type": "code",
      "source": [
        "from tensorflow.keras.utils import plot_model\n",
        "\n",
        "plot_model(model, to_file='model.png', show_shapes=True, show_layer_names=True)\n"
      ],
      "metadata": {
        "id": "VQVuCUZ2b3_1"
      },
      "execution_count": null,
      "outputs": []
    },
    {
      "cell_type": "code",
      "source": [],
      "metadata": {
        "id": "mlGhw7jRbbMf"
      },
      "execution_count": null,
      "outputs": []
    },
    {
      "cell_type": "markdown",
      "source": [
        "# GridSeachCV, 적용한 Keras 모델"
      ],
      "metadata": {
        "id": "rTEKzDyHdSDc"
      }
    },
    {
      "cell_type": "code",
      "source": [
        "from tensorflow.keras.wrappers.scikit_learn import KerasClassifier\n",
        "from sklearn.model_selection import GridSearchCV\n",
        "from tensorflow.keras.optimizers import Adam\n",
        "\n",
        "# 모델 생성 함수\n",
        "def create_model(filters, kernel_size, learning_rate):\n",
        "    inputs = Input(shape=(224, 224, 3))\n",
        "    x = Conv2D(filters, kernel_size, activation='relu')(inputs)\n",
        "    x = MaxPooling2D((2, 2))(x)\n",
        "    x = Conv2D(filters, kernel_size, activation='relu')(x)\n",
        "    x = MaxPooling2D((2, 2))(x)\n",
        "    x = Flatten()(x)\n",
        "    x = Dense(64, activation='relu')(x)\n",
        "    outputs = Dense(2, activation='softmax')(x)\n",
        "\n",
        "    model = Model(inputs, outputs)\n",
        "\n",
        "    optimizer = Adam(lr=learning_rate)\n",
        "    model.compile(optimizer=optimizer, loss='categorical_crossentropy', metrics=['accuracy'])\n",
        "\n",
        "    return model\n",
        "\n",
        "# 데이터 경로 설정\n",
        "data_path = '/path/to/data'\n",
        "train_path = os.path.join(data_path, 'train')\n",
        "test_path = os.path.join(data_path, 'test')\n",
        "\n",
        "# 데이터 로드 및 전처리\n",
        "train_datagen = ImageDataGenerator(rescale=1./255)\n",
        "test_datagen = ImageDataGenerator(rescale=1./255)\n",
        "\n",
        "train_data = train_datagen.flow_from_directory(train_path, target_size=(224, 224), batch_size=32,\n",
        "                                               class_mode='categorical', classes=['normal', 'abnormal'])\n",
        "test_data = test_datagen.flow_from_directory(test_path, target_size=(224, 224), batch_size=32,\n",
        "                                             class_mode='categorical', classes=['normal', 'abnormal'])\n",
        "\n",
        "# 모델 래핑\n",
        "model = KerasClassifier(build_fn=create_model, epochs=10, batch_size=32, verbose=0)\n",
        "\n",
        "# 하이퍼파라미터 그리드\n",
        "param_grid = {'filters': [32, 64, 128],\n",
        "              'kernel_size': [(3, 3), (5, 5), (7, 7)],\n",
        "              'learning_rate': [0.001, 0.0001, 0.00001]}\n",
        "\n",
        "# 그리드 탐색\n",
        "grid = GridSearchCV(estimator=model, param_grid=param_grid, cv=3)\n",
        "grid_result = grid.fit(train_data)\n",
        "\n",
        "# 결과 출력\n",
        "print(f'Best score: {grid_result.best_score_} using {grid_result.best_params_}')\n"
      ],
      "metadata": {
        "id": "uXj9qtlldSFZ"
      },
      "execution_count": null,
      "outputs": []
    },
    {
      "cell_type": "markdown",
      "source": [
        "## 라벨명 파일 추가 "
      ],
      "metadata": {
        "id": "Y9YIDHPedSHS"
      }
    },
    {
      "cell_type": "code",
      "source": [
        "from tensorflow.keras.wrappers.scikit_learn import KerasClassifier\n",
        "from sklearn.model_selection import GridSearchCV\n",
        "from tensorflow.keras.optimizers import Adam\n",
        "\n",
        "# 모델 생성 함수\n",
        "def create_model(labels, filters, kernel_size, learning_rate):\n",
        "    inputs = Input(shape=(224, 224, 3))\n",
        "    x = Conv2D(filters, kernel_size, activation='relu')(inputs)\n",
        "    x = MaxPooling2D((2, 2))(x)\n",
        "    x = Conv2D(filters, kernel_size, activation='relu')(x)\n",
        "    x = MaxPooling2D((2, 2))(x)\n",
        "    x = Flatten()(x)\n",
        "    x = Dense(64, activation='relu')(x)\n",
        "    outputs = Dense(2, activation='softmax')(x)\n",
        "\n",
        "    model = Model(inputs, outputs)\n",
        "\n",
        "    optimizer = Adam(lr=learning_rate)\n",
        "    model.compile(optimizer=optimizer, loss='categorical_crossentropy', metrics=['accuracy'])\n",
        "\n",
        "    return model\n",
        "\n",
        "# 데이터 경로 설정\n",
        "data_path = '/path/to/data'\n",
        "train_path = os.path.join(data_path, 'train')\n",
        "test_path = os.path.join(data_path, 'test')\n",
        "\n",
        "# 데이터 로드 및 전처리\n",
        "train_datagen = ImageDataGenerator(rescale=1./255)\n",
        "test_datagen = ImageDataGenerator(rescale=1./255)\n",
        "\n",
        "train_data = train_datagen.flow_from_directory(train_path, target_size=(224, 224), batch_size=32,\n",
        "                                               class_mode='categorical', classes=['normal', 'abnormal'])\n",
        "test_data = test_datagen.flow_from_directory(test_path, target_size=(224, 224), batch_size=32,\n",
        "                                             class_mode='categorical', classes=['normal', 'abnormal'])\n",
        "\n",
        "# 라벨 파일 생성\n",
        "labels = {v: k for k, v in train_data.class_indices.items()}\n",
        "\n",
        "# 모델 래핑\n",
        "model = KerasClassifier(build_fn=create_model, epochs=10, batch_size=32, verbose=0, labels=labels)\n",
        "\n",
        "# 하이퍼파라미터 그리드\n",
        "param_grid = {'filters': [32, 64, 128],\n",
        "              'kernel_size': [(3, 3), (5, 5), (7, 7)],\n",
        "              'learning_rate': [0.001, 0.0001, 0.00001]}\n",
        "\n",
        "# 그리드 탐색\n",
        "grid = GridSearchCV(estimator=model, param_grid=param_grid, cv=3)\n",
        "grid_result = grid.fit(train_data)\n",
        "\n",
        "# 결과 출력\n",
        "print(f'Best score: {grid_result.best_score_} using {grid_result.best_params_}')\n"
      ],
      "metadata": {
        "id": "Wz1lkihCdSJO"
      },
      "execution_count": null,
      "outputs": []
    },
    {
      "cell_type": "markdown",
      "source": [
        "> 위 코드에서는 create_model 함수에서 라벨 파일을 labels 인자로 받도록 수정했습니다. create_model 함수에 labels 인자가 추가되었기 때문에, 이제 모델 래핑 시 labels 인자를 추가하여 labels 값을 전달해야 합니다. labels 값은 train_data.class_indices 딕셔너리의 key와 value를 뒤집은 형태로 생성하였습니다."
      ],
      "metadata": {
        "id": "XHF1G6modSLD"
      }
    },
    {
      "cell_type": "markdown",
      "source": [
        "* 그리드 탐색 이후에는, 최적의 모델과 하이퍼파라미터로 최종 모델을 학습하고, 테스트 데이터에 대한 성능을 평가할 수 있습니다. 이를 위해서는 다음과 같은 코드를 사용할 수 있습니다."
      ],
      "metadata": {
        "id": "ytTkjZUxdSMh"
      }
    },
    {
      "cell_type": "code",
      "source": [
        "from tensorflow.keras.optimizers import Adam\n",
        "\n",
        "# 최적의 하이퍼파라미터로 모델 생성\n",
        "best_model = create_model(labels, filters=32, kernel_size=(3, 3), learning_rate=0.001)\n",
        "\n",
        "# 모델 학습\n",
        "optimizer = Adam(lr=0.001)\n",
        "best_model.compile(optimizer=optimizer, loss='categorical_crossentropy', metrics=['accuracy'])\n",
        "best_model.fit(train_data, epochs=10, batch_size=32, validation_data=test_data, verbose=1, callbacks=[early_stopping])\n",
        "\n",
        "# 모델 평가\n",
        "score = best_model.evaluate(test_data, verbose=0)\n",
        "print(f'Test loss: {score[0]} / Test accuracy: {score[1]}')\n"
      ],
      "metadata": {
        "id": "K5S8NchXdSOa"
      },
      "execution_count": null,
      "outputs": []
    },
    {
      "cell_type": "markdown",
      "source": [
        "> 위 코드에서는 create_model 함수에 labels 인자를 전달하여 최적의 모델을 생성하고, 최적의 하이퍼파라미터로 모델을 학습시킵니다. 이후에는 evaluate 메서드를 사용하여 테스트 데이터에 대한 성능을 평가합니다"
      ],
      "metadata": {
        "id": "ewzCSymPf08f"
      }
    },
    {
      "cell_type": "code",
      "source": [],
      "metadata": {
        "id": "DgkDmqjSf3D9"
      },
      "execution_count": null,
      "outputs": []
    },
    {
      "cell_type": "code",
      "source": [],
      "metadata": {
        "id": "jSkfmIEof3VN"
      },
      "execution_count": null,
      "outputs": []
    },
    {
      "cell_type": "code",
      "source": [],
      "metadata": {
        "id": "TVbhe-Q2f3XO"
      },
      "execution_count": null,
      "outputs": []
    },
    {
      "cell_type": "code",
      "source": [],
      "metadata": {
        "id": "ELlqFqclf3ZG"
      },
      "execution_count": null,
      "outputs": []
    },
    {
      "cell_type": "code",
      "source": [],
      "metadata": {
        "id": "7uPy-36af3a-"
      },
      "execution_count": null,
      "outputs": []
    },
    {
      "cell_type": "code",
      "source": [],
      "metadata": {
        "id": "Kh9pvlPgf3c6"
      },
      "execution_count": null,
      "outputs": []
    },
    {
      "cell_type": "code",
      "source": [],
      "metadata": {
        "id": "7gjdoER6f3eu"
      },
      "execution_count": null,
      "outputs": []
    },
    {
      "cell_type": "code",
      "source": [],
      "metadata": {
        "id": "dKbrGfMEf3g1"
      },
      "execution_count": null,
      "outputs": []
    }
  ]
}