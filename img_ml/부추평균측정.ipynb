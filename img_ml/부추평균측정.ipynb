{
 "cells": [
  {
   "cell_type": "code",
   "execution_count": 1,
   "metadata": {},
   "outputs": [],
   "source": [
    "import cv2\n",
    "import numpy as np\n",
    "\n",
    "# 이미지 불러오기\n",
    "image = cv2.imread('samples/chive_s1.jpeg')\n",
    "\n",
    "# 그레이스케일 변환\n",
    "gray = cv2.cvtColor(image, cv2.COLOR_BGR2GRAY)\n",
    "\n",
    "# 이진화\n",
    "_, thresh = cv2.threshold(gray, 120, 255, cv2.THRESH_BINARY_INV)\n",
    "\n",
    "# 연결된 구성 요소 찾기\n",
    "contours, _ = cv2.findContours(thresh, cv2.RETR_EXTERNAL, cv2.CHAIN_APPROX_SIMPLE)\n",
    "\n",
    "# 높이 저장용 리스트\n",
    "heights = []\n",
    "\n",
    "# 10개의 부추 높이 계산 및 바운딩 박스 그리기\n",
    "for contour in contours:\n",
    "    if 100 < cv2.contourArea(contour) < 5000:  # 적당한 크기의 부추만 선택\n",
    "        x, y, w, h = cv2.boundingRect(contour)\n",
    "        heights.append(h)\n",
    "        cv2.rectangle(image, (x, y), (x+w, y+h), (0, 0, 255), 2)  # 빨간색 바운딩 박스\n",
    "\n",
    "# 높이 정렬\n",
    "heights = sorted(heights)[-10:]\n",
    "\n",
    "# 최대와 최소 제거 후 평균 계산\n",
    "average_height = sum(heights[1:-1]) / 8\n",
    "\n",
    "# 이미지 표시\n",
    "cv2.imshow('Segmented Chives', image)\n",
    "cv2.waitKey(0)\n",
    "cv2.destroyAllWindows()\n",
    "\n",
    "print(f\"부추의 평균 높이는: {average_height} 픽셀\")\n"
   ]
  },
  {
   "cell_type": "code",
   "execution_count": null,
   "metadata": {},
   "outputs": [],
   "source": []
  }
 ],
 "metadata": {
  "kernelspec": {
   "display_name": "ds38",
   "language": "python",
   "name": "python3"
  },
  "language_info": {
   "codemirror_mode": {
    "name": "ipython",
    "version": 3
   },
   "file_extension": ".py",
   "mimetype": "text/x-python",
   "name": "python",
   "nbconvert_exporter": "python",
   "pygments_lexer": "ipython3",
   "version": "3.8.17"
  },
  "orig_nbformat": 4
 },
 "nbformat": 4,
 "nbformat_minor": 2
}
