{
 "cells": [
  {
   "cell_type": "code",
   "execution_count": 1,
   "id": "6ba16662-74a7-43c0-a707-03bee09acdf2",
   "metadata": {},
   "outputs": [
    {
     "name": "stderr",
     "output_type": "stream",
     "text": [
      "/Users/kimsy/miniconda/envs/mi38/lib/python3.8/site-packages/tqdm/auto.py:21: TqdmWarning: IProgress not found. Please update jupyter and ipywidgets. See https://ipywidgets.readthedocs.io/en/stable/user_install.html\n",
      "  from .autonotebook import tqdm as notebook_tqdm\n"
     ]
    }
   ],
   "source": [
    "from fastai.vision.all import *"
   ]
  },
  {
   "cell_type": "code",
   "execution_count": 2,
   "id": "97574916-9bfd-4484-bf55-9ccbc50b5ac0",
   "metadata": {},
   "outputs": [
    {
     "data": {
      "text/plain": [
       "(#24087) [Path('/Users/kimsy/DataScience/dataset/img_train/dogs-vs-cats/train/dog.8011.jpg'),Path('/Users/kimsy/DataScience/dataset/img_train/dogs-vs-cats/train/cat.5077.jpg'),Path('/Users/kimsy/DataScience/dataset/img_train/dogs-vs-cats/train/dog.7322.jpg'),Path('/Users/kimsy/DataScience/dataset/img_train/dogs-vs-cats/train/cat.2718.jpg'),Path('/Users/kimsy/DataScience/dataset/img_train/dogs-vs-cats/train/cat.10151.jpg'),Path('/Users/kimsy/DataScience/dataset/img_train/dogs-vs-cats/train/cat.3406.jpg'),Path('/Users/kimsy/DataScience/dataset/img_train/dogs-vs-cats/train/dog.1753.jpg'),Path('/Users/kimsy/DataScience/dataset/img_train/dogs-vs-cats/train/cat.4369.jpg'),Path('/Users/kimsy/DataScience/dataset/img_train/dogs-vs-cats/train/cat.7660.jpg'),Path('/Users/kimsy/DataScience/dataset/img_train/dogs-vs-cats/train/dog.5535.jpg')...]"
      ]
     },
     "execution_count": 2,
     "metadata": {},
     "output_type": "execute_result"
    }
   ],
   "source": [
    "# 데이터 경로 정의\n",
    "path = Path('/Users/kimsy/DataScience/dataset/img_train/dogs-vs-cats/train/')\n",
    "path.ls()"
   ]
  },
  {
   "cell_type": "code",
   "execution_count": 3,
   "id": "bcc3a1ce-28c2-4f85-9a53-5a757293b26b",
   "metadata": {},
   "outputs": [],
   "source": [
    "# 데이터 불러오기와 전처리를 한번에 수행하는 datablocks 정의\n",
    "dblock = DataBlock(\n",
    "    blocks=(ImageBlock, CategoryBlock),\n",
    "    get_items=get_image_files,\n",
    "    splitter=RandomSplitter(valid_pct=0.2, seed=42),\n",
    "    get_y=parent_label,\n",
    "    item_tfms=[RandomResizedCrop(256), Resize(224)],\n",
    "    batch_tfms=[\n",
    "        *aug_transforms(size=224, ),\n",
    "        Rotate(draw=10.0, p=0.5)])"
   ]
  },
  {
   "cell_type": "code",
   "execution_count": null,
   "id": "f3ef5e08-89fc-4f48-bdfc-44e12ef469bf",
   "metadata": {},
   "outputs": [],
   "source": [
    "# DataLoader 생성\n",
    "dls = dblock.dataloaders(path)"
   ]
  },
  {
   "cell_type": "code",
   "execution_count": null,
   "id": "18fed275-b861-4a27-a10f-468ff88c5b22",
   "metadata": {},
   "outputs": [],
   "source": [
    "# 모델 학습\n",
    "learn = cnn_learner(dls, resnet34, metrics=[accuracy, error_rate])\n",
    "learn.fine_tune(4)\n",
    "\n",
    "# 모델 평가\n",
    "interp = ClassificationInterpretation.from_learner(learn)\n",
    "interp.plot_confusion_matrix()\n",
    "\n",
    "# 예측하기\n",
    "img = PIL.Image.open('/path/to/new/image')\n",
    "pred = learn.predict(img)\n",
    "print(pred)"
   ]
  },
  {
   "cell_type": "code",
   "execution_count": null,
   "id": "fa9c1598-979c-4af2-9dcf-4a68fb288b04",
   "metadata": {},
   "outputs": [],
   "source": []
  }
 ],
 "metadata": {
  "kernelspec": {
   "display_name": "Python 3 (ipykernel)",
   "language": "python",
   "name": "python3"
  },
  "language_info": {
   "codemirror_mode": {
    "name": "ipython",
    "version": 3
   },
   "file_extension": ".py",
   "mimetype": "text/x-python",
   "name": "python",
   "nbconvert_exporter": "python",
   "pygments_lexer": "ipython3",
   "version": "3.9.6"
  },
  "widgets": {
   "application/vnd.jupyter.widget-state+json": {
    "state": {},
    "version_major": 2,
    "version_minor": 0
   }
  }
 },
 "nbformat": 4,
 "nbformat_minor": 5
}
