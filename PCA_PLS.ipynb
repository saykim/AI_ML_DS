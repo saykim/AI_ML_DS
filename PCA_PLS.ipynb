{
  "nbformat": 4,
  "nbformat_minor": 0,
  "metadata": {
    "colab": {
      "name": "PCA_PLS.ipynb",
      "provenance": [],
      "authorship_tag": "ABX9TyOGHI86gzm0cmdfc+GzpZWa",
      "include_colab_link": true
    },
    "kernelspec": {
      "name": "python3",
      "display_name": "Python 3"
    },
    "language_info": {
      "name": "python"
    }
  },
  "cells": [
    {
      "cell_type": "markdown",
      "metadata": {
        "id": "view-in-github",
        "colab_type": "text"
      },
      "source": [
        "<a href=\"https://colab.research.google.com/github/saykim/ds/blob/main/PCA_PLS.ipynb\" target=\"_parent\"><img src=\"https://colab.research.google.com/assets/colab-badge.svg\" alt=\"Open In Colab\"/></a>"
      ]
    },
    {
      "cell_type": "code",
      "execution_count": null,
      "metadata": {
        "id": "kfmDu8RUngVZ"
      },
      "outputs": [],
      "source": [
        "from sklearn.linear_model import LinearRegression\n",
        "from sklearn.decomposition import PCA\n",
        "from sklearn.preprocessing import StandardScaler\n",
        "from sklearn.datasets import make_regression\n",
        "\n",
        "import numpy as np\n",
        "import matplotlib.pyplot as plt\n",
        "import pandas as pd"
      ]
    },
    {
      "cell_type": "code",
      "source": [
        "X,y = make_regression(n_samples=10000, n_features=100, n_informative=10, n_targets=1, random_state=42, noise=10)"
      ],
      "metadata": {
        "id": "qqIjbg1Pn3RY"
      },
      "execution_count": null,
      "outputs": []
    },
    {
      "cell_type": "code",
      "source": [
        "print(X.shape, y.shape)"
      ],
      "metadata": {
        "colab": {
          "base_uri": "https://localhost:8080/"
        },
        "id": "2jj0E_JQoCDk",
        "outputId": "871e3b54-d830-413a-f046-66196c4b8017"
      },
      "execution_count": null,
      "outputs": [
        {
          "output_type": "stream",
          "name": "stdout",
          "text": [
            "(10000, 100) (10000,)\n"
          ]
        }
      ]
    },
    {
      "cell_type": "code",
      "source": [
        "Xstd = StandardScaler().fit_transform(X)\n",
        "ystd = StandardScaler().fit_transform(y.reshape(-1,1))"
      ],
      "metadata": {
        "id": "SbWj6vQkoEAd"
      },
      "execution_count": null,
      "outputs": []
    },
    {
      "cell_type": "code",
      "source": [
        "for i in range(1,100):\n",
        "    pca = PCA(n_components=i)\n",
        "    pca.fit_transform(Xstd)\n",
        "    print('n_components:', i, 'explained_variance : ', sum(pca.explained_variance_ratio_))"
      ],
      "metadata": {
        "colab": {
          "base_uri": "https://localhost:8080/"
        },
        "id": "vBytUzgUoYqp",
        "outputId": "b09dae83-964c-49be-a141-1cbc5d11950e"
      },
      "execution_count": null,
      "outputs": [
        {
          "output_type": "stream",
          "name": "stdout",
          "text": [
            "n_components: 1 explained_variance :  0.011603786502893688\n",
            "n_components: 2 explained_variance :  0.02320246945068278\n",
            "n_components: 3 explained_variance :  0.03436631721836748\n",
            "n_components: 4 explained_variance :  0.045901514097768714\n",
            "n_components: 5 explained_variance :  0.057255186260658175\n",
            "n_components: 6 explained_variance :  0.06840033496654388\n",
            "n_components: 7 explained_variance :  0.07938549878659397\n",
            "n_components: 8 explained_variance :  0.09080396200329519\n",
            "n_components: 9 explained_variance :  0.10254313741408697\n",
            "n_components: 10 explained_variance :  0.1105795460900907\n",
            "n_components: 11 explained_variance :  0.12103643251312429\n",
            "n_components: 12 explained_variance :  0.1323685113971486\n",
            "n_components: 13 explained_variance :  0.14320500109860654\n",
            "n_components: 14 explained_variance :  0.1542209774897123\n",
            "n_components: 15 explained_variance :  0.16489476642090856\n",
            "n_components: 16 explained_variance :  0.17407451022030399\n",
            "n_components: 17 explained_variance :  0.18581368787645625\n",
            "n_components: 18 explained_variance :  0.19695115066737784\n",
            "n_components: 19 explained_variance :  0.20709726041104695\n",
            "n_components: 20 explained_variance :  0.21818400865855864\n",
            "n_components: 21 explained_variance :  0.2280461067757369\n",
            "n_components: 22 explained_variance :  0.23846039464593508\n",
            "n_components: 23 explained_variance :  0.2498093170662567\n",
            "n_components: 24 explained_variance :  0.25965029418407565\n",
            "n_components: 25 explained_variance :  0.27121725897486004\n",
            "n_components: 26 explained_variance :  0.28107035469621844\n",
            "n_components: 27 explained_variance :  0.2921251050267604\n",
            "n_components: 28 explained_variance :  0.30133233379617874\n",
            "n_components: 29 explained_variance :  0.3130618321170467\n",
            "n_components: 30 explained_variance :  0.3218328846988401\n",
            "n_components: 31 explained_variance :  0.33308488302070993\n",
            "n_components: 32 explained_variance :  0.34365862423208493\n",
            "n_components: 33 explained_variance :  0.35407465353303147\n",
            "n_components: 34 explained_variance :  0.36447949981342403\n",
            "n_components: 35 explained_variance :  0.37535117965426124\n",
            "n_components: 36 explained_variance :  0.38489541427974744\n",
            "n_components: 37 explained_variance :  0.394643127532605\n",
            "n_components: 38 explained_variance :  0.4057546397040373\n",
            "n_components: 39 explained_variance :  0.4157529026993753\n",
            "n_components: 40 explained_variance :  0.4260782880599437\n",
            "n_components: 41 explained_variance :  0.4363716827434767\n",
            "n_components: 42 explained_variance :  0.445974283554465\n",
            "n_components: 43 explained_variance :  0.4561805854451161\n",
            "n_components: 44 explained_variance :  0.46626106520806415\n",
            "n_components: 45 explained_variance :  0.4772050332393319\n",
            "n_components: 46 explained_variance :  0.48724135004817387\n",
            "n_components: 47 explained_variance :  0.49768268583629\n",
            "n_components: 48 explained_variance :  0.5076879530688398\n",
            "n_components: 49 explained_variance :  0.5167791214147174\n",
            "n_components: 50 explained_variance :  0.527177654956485\n",
            "n_components: 51 explained_variance :  0.5373287032957932\n",
            "n_components: 52 explained_variance :  0.5479052088121409\n",
            "n_components: 53 explained_variance :  0.5580666708473073\n",
            "n_components: 54 explained_variance :  0.5674688284377193\n",
            "n_components: 55 explained_variance :  0.5780646794872709\n",
            "n_components: 56 explained_variance :  0.5872674678904624\n",
            "n_components: 57 explained_variance :  0.5967939157639554\n",
            "n_components: 58 explained_variance :  0.6072948447100698\n",
            "n_components: 59 explained_variance :  0.6166194908943498\n",
            "n_components: 60 explained_variance :  0.6274578226188097\n",
            "n_components: 61 explained_variance :  0.6365220907987531\n",
            "n_components: 62 explained_variance :  0.6474830053291452\n",
            "n_components: 63 explained_variance :  0.6563891329467276\n",
            "n_components: 64 explained_variance :  0.6666077136038626\n",
            "n_components: 65 explained_variance :  0.6759266141284007\n",
            "n_components: 66 explained_variance :  0.6861522825403759\n",
            "n_components: 67 explained_variance :  0.6962322977132033\n",
            "n_components: 68 explained_variance :  0.7051427163026229\n",
            "n_components: 69 explained_variance :  0.7150638898846152\n",
            "n_components: 70 explained_variance :  0.7252323156224595\n",
            "n_components: 71 explained_variance :  0.7343698546472766\n",
            "n_components: 72 explained_variance :  0.7442020022543893\n",
            "n_components: 73 explained_variance :  0.753852266022905\n",
            "n_components: 74 explained_variance :  0.7637876289762378\n",
            "n_components: 75 explained_variance :  0.7738730604692947\n",
            "n_components: 76 explained_variance :  0.7835406632860847\n",
            "n_components: 77 explained_variance :  0.7925733196522469\n",
            "n_components: 78 explained_variance :  0.8021664092522809\n",
            "n_components: 79 explained_variance :  0.8116007531390906\n",
            "n_components: 80 explained_variance :  0.827524379979869\n",
            "n_components: 81 explained_variance :  0.8364964017142953\n",
            "n_components: 82 explained_variance :  0.8454424973791461\n",
            "n_components: 83 explained_variance :  0.8543614287874324\n",
            "n_components: 84 explained_variance :  0.8632638395621309\n",
            "n_components: 85 explained_variance :  0.8721332505771054\n",
            "n_components: 86 explained_variance :  0.880975022238066\n",
            "n_components: 87 explained_variance :  0.8897845559490095\n",
            "n_components: 88 explained_variance :  0.8985412499822445\n",
            "n_components: 89 explained_variance :  0.9072558488441211\n",
            "n_components: 90 explained_variance :  0.9159320569574877\n",
            "n_components: 91 explained_variance :  0.9245637722417344\n",
            "n_components: 92 explained_variance :  0.9331845352034079\n",
            "n_components: 93 explained_variance :  0.9417533759622186\n",
            "n_components: 94 explained_variance :  0.950249605580015\n",
            "n_components: 95 explained_variance :  0.9587238502898673\n",
            "n_components: 96 explained_variance :  0.9671243492567073\n",
            "n_components: 97 explained_variance :  0.9754347615665824\n",
            "n_components: 98 explained_variance :  0.9836981356134576\n",
            "n_components: 99 explained_variance :  0.9919227474716664\n"
          ]
        }
      ]
    },
    {
      "cell_type": "code",
      "source": [
        "pca = PCA(n_components = 48)\n",
        "X_pca = pca.fit_transform(Xstd)\n"
      ],
      "metadata": {
        "id": "5rDWK0nboy2E"
      },
      "execution_count": null,
      "outputs": []
    },
    {
      "cell_type": "code",
      "source": [
        "reg_pca = LinearRegression()\n",
        "reg_pca.fit(X_pca, y)\n",
        "reg_pca.coef_"
      ],
      "metadata": {
        "colab": {
          "base_uri": "https://localhost:8080/"
        },
        "id": "oEuEX_BJpO0F",
        "outputId": "682f5ca8-8bf6-47ce-9c1f-14e79c052117"
      },
      "execution_count": null,
      "outputs": [
        {
          "output_type": "execute_result",
          "data": {
            "text/plain": [
              "array([ -0.75507139, -26.18509935, -28.07622414, -29.32363046,\n",
              "         6.19494003, -12.29854149,  46.18326834,   7.84483845,\n",
              "       -10.17258647,   0.80518992,   1.53506689,  31.41690292,\n",
              "       -24.73326889,  13.40000554,  -5.6580998 ,  -9.13405682,\n",
              "        10.47461605,  -4.27767123,  -9.78339218,  -6.82629722,\n",
              "         1.11440079,  32.13093751, -12.49596746, -26.19889639,\n",
              "        21.17591718,   4.11473116,  -0.69078234,  21.08981297,\n",
              "        -6.83295825, -14.68931427, -19.39660427, -58.53169166,\n",
              "        20.03318835,  17.9946917 , -21.06239787,  25.74637448,\n",
              "         1.20676013,  -1.86774092,  28.50122747,  -0.6263878 ,\n",
              "        14.23259833,   3.20075381,  -3.74954009,  25.62606797,\n",
              "        10.63464891,   4.00033294,  22.63806375,   1.34440221])"
            ]
          },
          "metadata": {},
          "execution_count": 13
        }
      ]
    },
    {
      "cell_type": "markdown",
      "source": [
        "# PLS"
      ],
      "metadata": {
        "id": "hIOLr8QGpWLN"
      }
    },
    {
      "cell_type": "code",
      "source": [
        "from sklearn.cross_decomposition import PLSRegression\n",
        "from sklearn.metrics import mean_squared_error"
      ],
      "metadata": {
        "id": "20ABmiENpiAL"
      },
      "execution_count": null,
      "outputs": []
    },
    {
      "cell_type": "code",
      "source": [
        "r_sq = {}\n",
        "mse = {}\n",
        "\n",
        "for i in range(1,50):\n",
        "    pls = PLSRegression(n_components=i)\n",
        "    pls.fit(Xstd, ystd)\n",
        "    r_sq[i] = pls.score(Xstd, ystd)\n",
        "    mse[i] = mean_squared_error(ystd, pls.predict(Xstd))"
      ],
      "metadata": {
        "id": "rkvAOMXFpiuR"
      },
      "execution_count": null,
      "outputs": []
    },
    {
      "cell_type": "code",
      "source": [
        "df = pd.DataFrame(r_sq.items(), columns=['pls', 'score'])"
      ],
      "metadata": {
        "id": "ndF7rzCtsoiU"
      },
      "execution_count": null,
      "outputs": []
    },
    {
      "cell_type": "code",
      "source": [
        "mse_df = pd.DataFrame(mse.items(), columns=['mse_pls', 'mse_score'])"
      ],
      "metadata": {
        "id": "iebsnOKlu8H6"
      },
      "execution_count": null,
      "outputs": []
    },
    {
      "cell_type": "code",
      "source": [
        "plt.plot(df['pls'], df['score'], 'ro', alpha=.5, label = 'r_squares')\n",
        "plt.plot(mse_df['mse_pls'], mse_df['mse_score'], 'go', alpha=.5, label='mse')\n",
        "plt.show()"
      ],
      "metadata": {
        "colab": {
          "base_uri": "https://localhost:8080/",
          "height": 265
        },
        "id": "MYF6DNw8p7ON",
        "outputId": "55f8a26b-5f7d-4cea-8864-9f72e9723cfc"
      },
      "execution_count": null,
      "outputs": [
        {
          "output_type": "display_data",
          "data": {
            "text/plain": [
              "<Figure size 432x288 with 1 Axes>"
            ],
            "image/png": "[encoded data removed]"
          },
          "metadata": {
            "needs_background": "light"
          }
        }
      ]
    }
  ]
}