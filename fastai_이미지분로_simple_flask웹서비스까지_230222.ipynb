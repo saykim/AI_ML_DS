{
  "nbformat": 4,
  "nbformat_minor": 0,
  "metadata": {
    "colab": {
      "provenance": [],
      "authorship_tag": "ABX9TyOg73vAmMb6CiR+Xi1guFvG",
      "include_colab_link": true
    },
    "kernelspec": {
      "name": "python3",
      "display_name": "Python 3"
    },
    "language_info": {
      "name": "python"
    }
  },
  "cells": [
    {
      "cell_type": "markdown",
      "metadata": {
        "id": "view-in-github",
        "colab_type": "text"
      },
      "source": [
        "<a href=\"https://colab.research.google.com/github/saykim/ds/blob/main/fastai_%EC%9D%B4%EB%AF%B8%EC%A7%80%EB%B6%84%EB%A1%9C_simple_flask%EC%9B%B9%EC%84%9C%EB%B9%84%EC%8A%A4%EA%B9%8C%EC%A7%80_230222.ipynb\" target=\"_parent\"><img src=\"https://colab.research.google.com/assets/colab-badge.svg\" alt=\"Open In Colab\"/></a>"
      ]
    },
    {
      "cell_type": "markdown",
      "source": [
        "# 기본모델"
      ],
      "metadata": {
        "id": "MeOhFcmpnQVs"
      }
    },
    {
      "cell_type": "code",
      "execution_count": null,
      "metadata": {
        "id": "WLimNwNDml9D"
      },
      "outputs": [],
      "source": [
        "from fastai.vision.all import *\n",
        "import os\n",
        "\n",
        "# 데이터 경로 설정\n",
        "data_path = '/path/to/data'\n",
        "train_path = os.path.join(data_path, 'train')\n",
        "test_path = os.path.join(data_path, 'test')\n",
        "\n",
        "# 데이터 로드 및 전처리\n",
        "data = ImageDataLoaders.from_folder(data_path, train='train', valid='test',\n",
        "                                    item_tfms=RandomResizedCrop(224, min_scale=0.5),\n",
        "                                    batch_tfms=[*aug_transforms(), Normalize.from_stats(*imagenet_stats)])\n",
        "\n",
        "# 모델 생성\n",
        "learn = cnn_learner(data, resnet18, metrics=[accuracy])\n",
        "\n",
        "# 학습\n",
        "learn.fine_tune(10, freeze_epochs=5)\n",
        "\n",
        "# 결과 예측\n",
        "interp = ClassificationInterpretation.from_learner(learn)\n",
        "\n",
        "# 틀린 이미지 출력\n",
        "interp.plot_top_losses(5, nrows=5)\n"
      ]
    },
    {
      "cell_type": "markdown",
      "source": [
        "# augmentaion 추가 "
      ],
      "metadata": {
        "id": "C1FN5yMWnTxJ"
      }
    },
    {
      "cell_type": "code",
      "source": [
        "from fastai.vision.all import *\n",
        "from fastai.vision import *\n",
        "import os\n"
      ],
      "metadata": {
        "id": "Di4Dmn1wnVmu"
      },
      "execution_count": null,
      "outputs": []
    },
    {
      "cell_type": "code",
      "source": [
        "# 데이터 경로 설정\n",
        "data_path = '/path/to/data'\n",
        "train_path = os.path.join(data_path, 'train')\n",
        "test_path = os.path.join(data_path, 'test')\n",
        "\n",
        "# 데이터 로드 및 전처리\n",
        "data = ImageDataLoaders.from_folder(data_path, train='train', valid='test',\n",
        "                                    item_tfms=[RandomResizedCrop(224, min_scale=0.5),\n",
        "                                               Resize(224, method='pad', pad_mode='reflection')],\n",
        "                                    batch_tfms=[*aug_transforms(flip_vert=True, max_rotate=10.0, max_zoom=1.1, max_warp=0.2),\n",
        "                                                Normalize.from_stats(*imagenet_stats)])\n"
      ],
      "metadata": {
        "id": "8YtyFO6nnhBm"
      },
      "execution_count": null,
      "outputs": []
    },
    {
      "cell_type": "markdown",
      "source": [
        "* 위 코드에서는 item_tfms 인자에 이미지 변환 함수를 적용합니다. RandomResizedCrop은 이미지를 무작위로 잘라내고 크기를 조정하는 함수이며, Resize는 이미지 크기를 조정하는 함수입니다. batch_tfms 인자에는 데이터 배치에 적용할 이미지 변환 함수를 적용합니다. aug_transforms 함수는 여러 가지 이미지 변환 함수를 랜덤으로 적용하는 함수이며, Normalize.from_stats(*imagenet_stats)는 이미지를 정규화하는 함수입니다.\n",
        "\n",
        "* 이미지 변환 함수는 다양한 옵션을 설정할 수 있습니다. flip_vert 옵션은 이미지를 수직으로 뒤집습니다. max_rotate 옵션은 이미지를 최대로 회전할 각도를 설정합니다. max_zoom 옵션은 이미지를 최대로 확대할 비율을 설정합니다. max_warp 옵션은 이미지 왜곡의 최대 크기를 설정합니다.\n",
        "\n",
        "* 이 외에도 다양한 이미지 변환 함수가 제공됩니다. 예를 들어, brightness 함수는 이미지의 밝기를 조절하고, contrast 함수는 이미지의 대비를 조절합니다. 이러한 이미지 변환 함수를 조합하여 데이터의 다양성을 높일 수 있습니다.\n",
        "\n",
        "\n",
        "\n",
        "\n"
      ],
      "metadata": {
        "id": "cgyp3oS6noIt"
      }
    },
    {
      "cell_type": "code",
      "source": [
        "# 모델 생성\n",
        "learn = cnn_learner(data, resnet18, metrics=[accuracy])\n",
        "\n"
      ],
      "metadata": {
        "id": "5_Nv8gYcnkv0"
      },
      "execution_count": null,
      "outputs": []
    },
    {
      "cell_type": "markdown",
      "source": [
        "* vision_learner와 cnn_learner는 fastai에서 제공하는 모델 학습 함수입니다.\n",
        "\n",
        "* **cnn_learner** 는 Convolutional Neural Network(CNN) 모델을 학습하는 함수로, 이미지 분류, 객체 감지 등의 작업에 많이 사용됩니다. \n",
        "> 이 함수는 PyTorch의 nn.Module을 기반으로한 fastai의 Learner 클래스를 사용하여 모델을 생성합니다.\n",
        "\n",
        "* **vision_learner**는 cnn_learner와 비슷하지만, fastai에서 제공하는 데이터 로딩 및 전처리 도구를 사용하여 이미지 데이터를 쉽게 처리할 수 있도록 지원하는 함수입니다. vision_learner는 이미지 분류, 객체 감지, 세그멘테이션 등의 작업에 적합합니다.\n",
        "> 즉, vision_learner는 cnn_learner의 확장판으로 이미지 데이터를 다루기 쉽도록 도와주는 기능이 추가되어 있는 것이며, cnn_learner는 모델 학습에 좀 더 집중할 수 있도록 구성되어 있습니다. 둘 다 Convolutional Neural Network(CNN) 모델을 학습하는 데 사용되는 함수이지만, 사용하는 상황에 따라 적절한 함수를 선택하여 사용하는 것이 좋습니다."
      ],
      "metadata": {
        "id": "iEEOuYINnlIW"
      }
    },
    {
      "cell_type": "code",
      "source": [
        "# 학습\n",
        "learn.fine_tune(10, freeze_epochs=5)\n",
        "\n",
        "# 결과 예측\n",
        "interp = ClassificationInterpretation.from_learner(learn)\n",
        "\n",
        "# 틀린 이미지 출력\n",
        "interp.plot_top_losses(5, nrows=5)"
      ],
      "metadata": {
        "id": "iqiuM1pRnlKl"
      },
      "execution_count": null,
      "outputs": []
    },
    {
      "cell_type": "markdown",
      "source": [
        "# 이미지 변형, fastai 모델"
      ],
      "metadata": {
        "id": "n_o6bfYpnlMc"
      }
    },
    {
      "cell_type": "code",
      "source": [
        "from fastai.vision.all import *\n",
        "from fastai.vision import *\n",
        "import os\n"
      ],
      "metadata": {
        "id": "XJnLAk5uq4aq"
      },
      "execution_count": null,
      "outputs": []
    },
    {
      "cell_type": "code",
      "source": [
        "# 학습할 데이터 경로 지정\n",
        "\n",
        "data_path = '/path/to/data'\n",
        "train_path = os.path.join(data_path, 'train')\n",
        "test_path = os.path.join(data_path, 'test')\n"
      ],
      "metadata": {
        "id": "Z-Ax9t6Hq-cq"
      },
      "execution_count": null,
      "outputs": []
    },
    {
      "cell_type": "code",
      "source": [
        "# ImageDataLoaders 클래스를 사용하여 데이터를 로드하고, 이미지 변환 함수를 적용합니다.\n",
        "\n",
        "data = ImageDataLoaders.from_folder(data_path, train='train', valid='test',\n",
        "                                    item_tfms=[RandomResizedCrop(224, min_scale=0.5),\n",
        "                                               Resize(224, method='pad', pad_mode='reflection'),\n",
        "                                               RandTransform(tfm=TfmAffine(), kwargs={'degrees': (-45, 45), 'translate': (-0.1, 0.1), 'scale': (0.5, 1.5)}, p=0.5),\n",
        "                                               RandTransform(tfm=TfmCrop(), kwargs={'row_pct': (0, 1), 'col_pct': (0, 1)}, p=0.5),\n",
        "                                               RandTransform(tfm=TfmColor(), kwargs={'draw': (0, 1), 'brightness': (-0.3, 0.3), 'contrast': (0.5, 1.5), 'hue': (-0.2, 0.2)}, p=0.5),\n",
        "                                               RandTransform(tfm=TfmAffine(), kwargs={'degrees': (-10, 10)}, p=0.5),\n",
        "                                               RandTransform(tfm=TfmAffine(), kwargs={'degrees': 0, 'translate': (-0.1,0.1)}, p=0.5)],\n",
        "                                    batch_tfms=[Normalize.from_stats(*imagenet_stats), *aug_transforms(do_flip=True, flip_vert=True, max_rotate=10.0, max_zoom=1.1, max_warp=0.2)])\n",
        "\n"
      ],
      "metadata": {
        "id": "kAACPywVq4ch"
      },
      "execution_count": null,
      "outputs": []
    },
    {
      "cell_type": "markdown",
      "source": [
        "* item_tfms 인자에는 이미지 변환 함수를 적용합니다. RandomResizedCrop은 이미지를 무작위로 잘라내고 크기를 조정하는 함수이며, Resize는 이미지 크기를 조정하는 함수입니다. RandTransform 함수는 랜덤으로 이미지를 변환하는 함수로, tfm 인자에는 이미지 변환 함수를 지정하고, kwargs 인자에는 해당 함수의 옵션을 지정합니다.\n",
        "\n",
        "* 위 코드에서 RandTransform 함수를 사용하여 이미지를 랜덤으로 회전, 이동, 확대, 축소, 색조 변화, 왜곡 변화를 적용합니다. p 옵션을 사용하여 각 함수를 적용할 확률을 지정할 수 있습니다.\n",
        "\n",
        "* batch_tfms 인자에는 데이터 배치에 적용할 이미지 변환 함수를 적용합니다. aug_transforms 함수는 여러 가지 이미지 변환 함수를 랜덤으로 적용하는 함수이며, Normalize.from_stats(*imagenet_stats)는 이미지를 정규화하는 함수입니다.\n",
        "\n",
        "* 이 외에도 다양한 이미지 변환 함수가 제공됩니다. 예를 들어, brightness 함수는 이미지의 밝기를 조절하는 함수이며, contrast 함수는 이미지의 대비를 조절하는 함수입니다. hue 함수는 이미지의 색상을 변경하는 함수이고, warp 함수는 이미지를 왜곡하는 함수입니다."
      ],
      "metadata": {
        "id": "Sdc60zInq4ey"
      }
    },
    {
      "cell_type": "code",
      "source": [
        "# 이미지 분류 모델을 학습\n",
        "\n",
        "learn = cnn_learner(data, resnet18, metrics=[accuracy])\n",
        "learn.fine_tune(10)\n"
      ],
      "metadata": {
        "id": "sj3eYO0Gq4go"
      },
      "execution_count": null,
      "outputs": []
    },
    {
      "cell_type": "markdown",
      "source": [
        "* cnn_learner 함수를 사용하여 모델을 생성하고, resnet18 모델을 사용합니다. metrics 인자는 모델의 성능 지표를 지정하는데, 여기서는 accuracy를 사용합니다. fine_tune 함수를 사용하여 모델을 학습합니다."
      ],
      "metadata": {
        "id": "vCS6wa3vq4ih"
      }
    },
    {
      "cell_type": "code",
      "source": [
        "# 이미지 분류 시작\n",
        "\n",
        "img = PILImage.create('/path/to/image')\n",
        "pred, pred_idx, probs = learn.predict(img)\n"
      ],
      "metadata": {
        "id": "0SW4RwKkq4kX"
      },
      "execution_count": null,
      "outputs": []
    },
    {
      "cell_type": "markdown",
      "source": [
        "* PILImage.create 함수를 사용하여 이미지를 열고, predict 함수를 사용하여 이미지를 분류합니다. pred는 예측한 라벨, pred_idx는 예측한 라벨의 인덱스, probs는 예측한 라벨의 확률을 나타냅니다.\n",
        "\n",
        "* 이제 이 코드를 웹 서비스로 구현할 수 있습니다. 사용자가 업로드한 이미지를 받아와서 위 코드를 사용하여 분류한 결과를 출력하면 됩니다."
      ],
      "metadata": {
        "id": "BJjn4LN6q4mA"
      }
    },
    {
      "cell_type": "code",
      "source": [],
      "metadata": {
        "id": "L9nlRsfAq4n5"
      },
      "execution_count": null,
      "outputs": []
    },
    {
      "cell_type": "markdown",
      "source": [
        "# 웹서비스"
      ],
      "metadata": {
        "id": "nu4VBZCzq4pb"
      }
    },
    {
      "cell_type": "code",
      "source": [
        "from flask import Flask, render_template, request\n",
        "from fastai.vision.all import *\n"
      ],
      "metadata": {
        "id": "YWV_AusEq4rY"
      },
      "execution_count": null,
      "outputs": []
    },
    {
      "cell_type": "markdown",
      "source": [
        "* Flask는 웹 프레임워크, render_template는 HTML 템플릿을 렌더링하는 함수, request는 HTTP 요청을 처리하는 객체입니다. fastai.vision.all 모듈에서는 이미지 분류를 위한 모든 함수와 클래스를 임포트할 수 있습니다."
      ],
      "metadata": {
        "id": "BLp4yMbIq4tQ"
      }
    },
    {
      "cell_type": "code",
      "source": [
        "# Flask 애플리케이션 생성\n",
        "app = Flask(__name__)\n",
        "\n",
        "\n",
        "# __name__은 현재 모듈의 이름을 나타내는 변수입니다."
      ],
      "metadata": {
        "id": "qCFTss54sZ_7"
      },
      "execution_count": 1,
      "outputs": []
    },
    {
      "cell_type": "code",
      "source": [
        "# 애플리케이션 라우팅 추가\n",
        "\n",
        "\n",
        "@app.route('/', methods=['GET', 'POST'])\n",
        "def index():\n",
        "    if request.method == 'POST':\n",
        "        file = request.files['file']\n",
        "        img = PILImage.create(file)\n",
        "        learn = load_learner('models')\n",
        "        pred, pred_idx, probs = learn.predict(img)\n",
        "        return render_template('result.html', result=pred)\n",
        "    return render_template('index.html')\n"
      ],
      "metadata": {
        "id": "yB-Wp0Kusun5"
      },
      "execution_count": null,
      "outputs": []
    },
    {
      "cell_type": "markdown",
      "source": [
        "* @app.route 데코레이터는 URL 경로를 매핑하는 역할을 합니다. \n",
        "> '/' 경로로 들어오는 GET, POST 요청 모두를 처리하는 index 함수를 정의합니다. \n",
        "*POST 요청을 처리할 때는 클라이언트가 보낸 이미지 파일을 받아서 PILImage.create 함수를 사용하여 이미지 객체를 생성합니다. \n",
        "* 이어서 load_learner 함수를 사용하여 학습된 모델을 불러옵니다. \n",
        "* predict 함수를 사용하여 이미지를 분류하고, result.html 템플릿으로 분류 결과를 출력합니다."
      ],
      "metadata": {
        "id": "-BNAaz3usaBw"
      }
    },
    {
      "cell_type": "code",
      "source": [
        "# result.html 템플릿은 다음과 같습니다.\n",
        "\n",
        "<!doctype html>\n",
        "<html>\n",
        "  <head>\n",
        "    <title>Image Classification Result</title>\n",
        "  </head>\n",
        "  <body>\n",
        "    <h1>Image Classification Result</h1>\n",
        "    <p>The image is classified as <strong>{{ result }}</strong>.</p>\n",
        "    <p><a href=\"/\">Upload another image</a></p>\n",
        "  </body>\n",
        "</html>\n",
        "\n"
      ],
      "metadata": {
        "id": "35SB4bCpsaDo"
      },
      "execution_count": null,
      "outputs": []
    },
    {
      "cell_type": "code",
      "source": [],
      "metadata": {
        "id": "XdXqQLvusaFe"
      },
      "execution_count": null,
      "outputs": []
    },
    {
      "cell_type": "code",
      "source": [],
      "metadata": {
        "id": "lsqfqkLZsaHH"
      },
      "execution_count": null,
      "outputs": []
    },
    {
      "cell_type": "code",
      "source": [],
      "metadata": {
        "id": "cM2s4tBbsaIm"
      },
      "execution_count": null,
      "outputs": []
    },
    {
      "cell_type": "code",
      "source": [],
      "metadata": {
        "id": "RNycfi8rsaKl"
      },
      "execution_count": null,
      "outputs": []
    },
    {
      "cell_type": "code",
      "source": [],
      "metadata": {
        "id": "Wgky9PFksaMh"
      },
      "execution_count": null,
      "outputs": []
    },
    {
      "cell_type": "code",
      "source": [],
      "metadata": {
        "id": "dep-eeoHsaOV"
      },
      "execution_count": null,
      "outputs": []
    },
    {
      "cell_type": "code",
      "source": [],
      "metadata": {
        "id": "OtA_WaEQsaPm"
      },
      "execution_count": null,
      "outputs": []
    },
    {
      "cell_type": "code",
      "source": [],
      "metadata": {
        "id": "kH1kg1F8q4uy"
      },
      "execution_count": null,
      "outputs": []
    }
  ]
}